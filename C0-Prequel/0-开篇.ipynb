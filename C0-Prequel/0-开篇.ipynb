{
 "cells": [
  {
   "cell_type": "markdown",
   "id": "b28fd3d4-c991-4a12-b21a-2f868ccffc90",
   "metadata": {},
   "source": [
    "# 跟着农民学用DGL开发GNN：0-开篇"
   ]
  },
  {
   "cell_type": "markdown",
   "id": "be6088c2-2c4c-4a93-bbaa-7a435a3b2f4a",
   "metadata": {},
   "source": [
    "## 为什么要开始这个苦逼的事情"
   ]
  },
  {
   "cell_type": "markdown",
   "id": "eb106516-6f25-48c3-a210-9af8fc3fb6fe",
   "metadata": {},
   "source": [
    "- 自己的私心：通过这个系列视频加深自己GNN开发的能力；\n",
    "- 大家的呼吁：2021年MAXP大赛里的DGL赛道里很多小伙伴希望能有一个关于DGL开发GNN的视频系列教程；\n",
    "- 推广DGL工具：DGL开源社区给笔者非常大的帮助，希望能有所回馈。\n"
   ]
  },
  {
   "cell_type": "markdown",
   "id": "986a5fc1-6e0f-4634-83e0-4fb9a702d761",
   "metadata": {},
   "source": [
    "## 希望观众有什么基本知识\n",
    "\n",
    "- 熟练掌握Python编程；\n",
    "- 熟悉使用一种向量化运算张量的工具包，比如Numpy等；\n",
    "- 熟练掌握Pytorch的编程，特别是对Tensor的多种计算；\n",
    "\n",
    "\n",
    "- 熟悉线性代数里的基础概念，特别是张量相关的运算知识；\n",
    "- 熟悉机器学习的相关基础知识和概念；\n",
    "- 熟悉GNN的相关基础知识和概念。"
   ]
  },
  {
   "cell_type": "markdown",
   "id": "ebeadc81-ffce-4786-8207-5fbd5263489f",
   "metadata": {},
   "source": [
    "## 通过观看这个系列你能(不能)得到什么"
   ]
  },
  {
   "cell_type": "markdown",
   "id": "72955636-b93f-4fde-8394-f4db886dd0bf",
   "metadata": {},
   "source": [
    "- 学习一个GNN的开发框架——Deep Graph Library(DGL)；\n",
    "- 能知道如何把常见的表格化数据转化成图结构，并用DGL来建模进行图机器学习；\n",
    "- 能知道如何在实际的业务场景里运用GNN进行建模；\n",
    "- 能知道如何应对实际业务场景里经常出现的海量数据；\n",
    "- 能知道如何把学术研究的论文开发成DGL的模型，并测试；\n",
    "\n",
    "\n",
    "- 不能学到GNN的基本概念和理论；\n",
    "- 不能学到如何进行GNN及相关的研究；\n",
    "- 不能学到学术研究都没有好的方法来解决的实际业务里的需求；\n",
    "- 不能学到如何进行GNN的工程化，比如如何构建GNN应用的架构设计和实施(想付费的私聊啊)"
   ]
  },
  {
   "cell_type": "markdown",
   "id": "fb85daf0-da1e-4f04-9d74-162dace64270",
   "metadata": {},
   "source": [
    "## 熟悉SageMaker Studio Lab的基本环境"
   ]
  },
  {
   "cell_type": "markdown",
   "id": "53df0a56-8bb7-47bc-89ce-22c34543ab61",
   "metadata": {},
   "source": [
    "### 在SageMaker Studio Lab里安装DGL\n",
    "\n",
    "<img src='./DGL_install.png' width=100%>"
   ]
  },
  {
   "cell_type": "code",
   "execution_count": 1,
   "id": "5ce45178-7363-4889-97ea-69921574ce7e",
   "metadata": {},
   "outputs": [
    {
     "name": "stdout",
     "output_type": "stream",
     "text": [
      "3.9.9\n"
     ]
    }
   ],
   "source": [
    "from platform import python_version\n",
    "\n",
    "print(python_version())"
   ]
  },
  {
   "cell_type": "code",
   "execution_count": 2,
   "id": "85f8afa0-92c3-41a4-b743-5415c9a002a2",
   "metadata": {},
   "outputs": [
    {
     "name": "stdout",
     "output_type": "stream",
     "text": [
      "total 0\n",
      "drwxr-xr-x 1 root root 19 Oct  6  2021 .\n",
      "drwxr-xr-x 1 root root 17 Jun  8 20:35 ..\n",
      "drwxr-xr-x 2 root root  6 Oct  6  2021 bin\n",
      "drwxr-xr-x 2 root root  6 Oct  6  2021 etc\n",
      "drwxr-xr-x 2 root root  6 Oct  6  2021 games\n",
      "drwxr-xr-x 2 root root  6 Oct  6  2021 include\n",
      "drwxr-xr-x 2 root root  6 Oct  6  2021 lib\n",
      "lrwxrwxrwx 1 root root  9 Oct  6  2021 man -> share/man\n",
      "drwxr-xr-x 2 root root 24 Oct  6  2021 sbin\n",
      "drwxr-xr-x 1 root root 29 Jun  8 20:36 share\n",
      "drwxr-xr-x 2 root root  6 Oct  6  2021 src\n"
     ]
    }
   ],
   "source": [
    "!ls -al /usr/local"
   ]
  },
  {
   "cell_type": "markdown",
   "id": "aa38b272-9888-460b-aa76-0895ee38e5a8",
   "metadata": {},
   "source": [
    "<img src='./cuda.jpg' width=50%>"
   ]
  },
  {
   "cell_type": "code",
   "execution_count": 4,
   "id": "f1d35e2e-61b5-4d7b-9ac4-5d3e120e30bc",
   "metadata": {},
   "outputs": [
    {
     "name": "stdout",
     "output_type": "stream",
     "text": [
      "Found existing installation: torch 1.8.0\n",
      "Uninstalling torch-1.8.0:\n",
      "  Successfully uninstalled torch-1.8.0\n",
      "\u001b[33mWARNING: Skipping dgl-cu111 as it is not installed.\u001b[0m\n",
      "\u001b[33mWARNING: Skipping dglgo as it is not installed.\u001b[0m\n"
     ]
    }
   ],
   "source": [
    "!pip install torch==1.10\n",
    "!pip install dgl dglgo -f https://data.dgl.ai/wheels/repo.html"
   ]
  },
  {
   "cell_type": "code",
   "execution_count": 4,
   "id": "2fdf9201-c456-403f-9d25-3393402cae5a",
   "metadata": {},
   "outputs": [],
   "source": [
    "import torch as th\n",
    "import dgl"
   ]
  },
  {
   "cell_type": "code",
   "execution_count": 5,
   "id": "e4500959-2621-48c7-b0f4-ebb17f83d4a7",
   "metadata": {},
   "outputs": [
    {
     "name": "stdout",
     "output_type": "stream",
     "text": [
      "1.8.0\n",
      "0.8.2\n"
     ]
    }
   ],
   "source": [
    "print(th.__version__)\n",
    "print(dgl.__version__)"
   ]
  },
  {
   "cell_type": "markdown",
   "id": "46a36e41-74d7-4ec8-8ac6-e8b18c54e1ff",
   "metadata": {},
   "source": [
    "安装其他需要用到的包："
   ]
  },
  {
   "cell_type": "code",
   "execution_count": 4,
   "id": "eae52135-674d-4683-a4e4-2a46b74836a0",
   "metadata": {},
   "outputs": [
    {
     "name": "stdout",
     "output_type": "stream",
     "text": [
      "Requirement already satisfied: sklearn in /home/studio-lab-user/.conda/envs/dgl/lib/python3.7/site-packages (0.0)\n",
      "Requirement already satisfied: scikit-learn in /home/studio-lab-user/.conda/envs/dgl/lib/python3.7/site-packages (from sklearn) (1.0.2)\n",
      "Requirement already satisfied: joblib>=0.11 in /home/studio-lab-user/.conda/envs/dgl/lib/python3.7/site-packages (from scikit-learn->sklearn) (1.1.0)\n",
      "Requirement already satisfied: numpy>=1.14.6 in /home/studio-lab-user/.conda/envs/dgl/lib/python3.7/site-packages (from scikit-learn->sklearn) (1.21.6)\n",
      "Requirement already satisfied: scipy>=1.1.0 in /home/studio-lab-user/.conda/envs/dgl/lib/python3.7/site-packages (from scikit-learn->sklearn) (1.7.3)\n",
      "Requirement already satisfied: threadpoolctl>=2.0.0 in /home/studio-lab-user/.conda/envs/dgl/lib/python3.7/site-packages (from scikit-learn->sklearn) (3.1.0)\n",
      "Requirement already satisfied: scipy in /home/studio-lab-user/.conda/envs/dgl/lib/python3.7/site-packages (1.7.3)\n",
      "Requirement already satisfied: numpy<1.23.0,>=1.16.5 in /home/studio-lab-user/.conda/envs/dgl/lib/python3.7/site-packages (from scipy) (1.21.6)\n",
      "Requirement already satisfied: mxnet in /home/studio-lab-user/.conda/envs/dgl/lib/python3.7/site-packages (1.9.1)\n",
      "Requirement already satisfied: numpy<2.0.0,>1.16.0 in /home/studio-lab-user/.conda/envs/dgl/lib/python3.7/site-packages (from mxnet) (1.21.6)\n",
      "Requirement already satisfied: graphviz<0.9.0,>=0.8.1 in /home/studio-lab-user/.conda/envs/dgl/lib/python3.7/site-packages (from mxnet) (0.8.4)\n",
      "Requirement already satisfied: requests<3,>=2.20.0 in /home/studio-lab-user/.conda/envs/dgl/lib/python3.7/site-packages (from mxnet) (2.28.0)\n",
      "Requirement already satisfied: urllib3<1.27,>=1.21.1 in /home/studio-lab-user/.conda/envs/dgl/lib/python3.7/site-packages (from requests<3,>=2.20.0->mxnet) (1.26.9)\n",
      "Requirement already satisfied: certifi>=2017.4.17 in /home/studio-lab-user/.conda/envs/dgl/lib/python3.7/site-packages (from requests<3,>=2.20.0->mxnet) (2022.6.15)\n",
      "Requirement already satisfied: charset-normalizer~=2.0.0 in /home/studio-lab-user/.conda/envs/dgl/lib/python3.7/site-packages (from requests<3,>=2.20.0->mxnet) (2.0.12)\n",
      "Requirement already satisfied: idna<4,>=2.5 in /home/studio-lab-user/.conda/envs/dgl/lib/python3.7/site-packages (from requests<3,>=2.20.0->mxnet) (3.3)\n",
      "Requirement already satisfied: tqdm in /home/studio-lab-user/.conda/envs/dgl/lib/python3.7/site-packages (4.64.0)\n",
      "Collecting rdflib\n",
      "  Downloading rdflib-6.1.1-py3-none-any.whl (482 kB)\n",
      "\u001b[2K     \u001b[90m━━━━━━━━━━━━━━━━━━━━━━━━━━━━━━━━━━━━━━━\u001b[0m \u001b[32m482.8/482.8 kB\u001b[0m \u001b[31m7.7 MB/s\u001b[0m eta \u001b[36m0:00:00\u001b[0ma \u001b[36m0:00:01\u001b[0m\n",
      "\u001b[?25hRequirement already satisfied: setuptools in /home/studio-lab-user/.conda/envs/dgl/lib/python3.7/site-packages (from rdflib) (62.5.0)\n",
      "Requirement already satisfied: pyparsing in /home/studio-lab-user/.conda/envs/dgl/lib/python3.7/site-packages (from rdflib) (3.0.9)\n",
      "Collecting isodate\n",
      "  Downloading isodate-0.6.1-py2.py3-none-any.whl (41 kB)\n",
      "\u001b[2K     \u001b[90m━━━━━━━━━━━━━━━━━━━━━━━━━━━━━━━━━━━━━━━━\u001b[0m \u001b[32m41.7/41.7 kB\u001b[0m \u001b[31m8.0 MB/s\u001b[0m eta \u001b[36m0:00:00\u001b[0m\n",
      "\u001b[?25hRequirement already satisfied: importlib-metadata in /home/studio-lab-user/.conda/envs/dgl/lib/python3.7/site-packages (from rdflib) (4.11.4)\n",
      "Requirement already satisfied: typing-extensions>=3.6.4 in /home/studio-lab-user/.conda/envs/dgl/lib/python3.7/site-packages (from importlib-metadata->rdflib) (4.2.0)\n",
      "Requirement already satisfied: zipp>=0.5 in /home/studio-lab-user/.conda/envs/dgl/lib/python3.7/site-packages (from importlib-metadata->rdflib) (3.8.0)\n",
      "Requirement already satisfied: six in /home/studio-lab-user/.conda/envs/dgl/lib/python3.7/site-packages (from isodate->rdflib) (1.16.0)\n",
      "Installing collected packages: isodate, rdflib\n",
      "Successfully installed isodate-0.6.1 rdflib-6.1.1\n"
     ]
    }
   ],
   "source": [
    "! pip install sklearn\n",
    "! pip install scipy\n",
    "! pip install mxnet\n",
    "! pip install tqdm\n",
    "! pip install rdflib # 加载aifb数据集时会用到rdflib"
   ]
  },
  {
   "cell_type": "markdown",
   "id": "62d64582-696e-40ec-b3b0-3c15875285e0",
   "metadata": {},
   "source": [
    "### 针对GPU的环境\n",
    "\n",
    "针对GPU，我们可以单独建一个Conda的虚拟环境给notebook使用。"
   ]
  },
  {
   "cell_type": "markdown",
   "id": "20ba0309-2e5a-4670-b4f3-bc7806562170",
   "metadata": {},
   "source": [
    "```\n",
    "conda create -n dgl-gpu python=3.9\n",
    "source activate dgl-gpu\n",
    "conda install -c anaconda ipykernel\n",
    "python -m ipykernel install --user --name=dgl-gpu\n",
    "```"
   ]
  },
  {
   "cell_type": "code",
   "execution_count": null,
   "id": "fdf3fecd-6fcb-4d89-9cc4-ba54ff239439",
   "metadata": {},
   "outputs": [],
   "source": []
  }
 ],
 "metadata": {
  "kernelspec": {
   "display_name": "default:Python",
   "language": "python",
   "name": "conda-env-default-py"
  },
  "language_info": {
   "codemirror_mode": {
    "name": "ipython",
    "version": 3
   },
   "file_extension": ".py",
   "mimetype": "text/x-python",
   "name": "python",
   "nbconvert_exporter": "python",
   "pygments_lexer": "ipython3",
   "version": "3.9.9"
  }
 },
 "nbformat": 4,
 "nbformat_minor": 5
}
